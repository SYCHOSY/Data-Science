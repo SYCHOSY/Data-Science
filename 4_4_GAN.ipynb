{
  "nbformat": 4,
  "nbformat_minor": 0,
  "metadata": {
    "colab": {
      "name": "4.4 GAN.ipynb",
      "provenance": [],
      "authorship_tag": "ABX9TyNmbd87cbRzOPEt8JgWrZq+",
      "include_colab_link": true
    },
    "kernelspec": {
      "name": "python3",
      "display_name": "Python 3"
    },
    "language_info": {
      "name": "python"
    }
  },
  "cells": [
    {
      "cell_type": "markdown",
      "metadata": {
        "id": "view-in-github",
        "colab_type": "text"
      },
      "source": [
        "<a href=\"https://colab.research.google.com/github/SYCHOSY/Data-Science/blob/master/4_4_GAN.ipynb\" target=\"_parent\"><img src=\"https://colab.research.google.com/assets/colab-badge.svg\" alt=\"Open In Colab\"/></a>"
      ]
    },
    {
      "cell_type": "code",
      "metadata": {
        "colab": {
          "base_uri": "https://localhost:8080/",
          "height": 35
        },
        "id": "wbpkwmoFiSsS",
        "outputId": "8c2fea45-255c-4f0e-b52d-561d93d7c69d"
      },
      "source": [
        "from tensorflow import keras\n",
        "from tensorflow.keras import layers\n",
        "import numpy as np\n",
        "import matplotlib.pyplot as plt\n",
        "\n",
        "from IPython import display\n",
        "keras.__version__"
      ],
      "execution_count": 1,
      "outputs": [
        {
          "output_type": "execute_result",
          "data": {
            "application/vnd.google.colaboratory.intrinsic+json": {
              "type": "string"
            },
            "text/plain": [
              "'2.5.0'"
            ]
          },
          "metadata": {
            "tags": []
          },
          "execution_count": 1
        }
      ]
    },
    {
      "cell_type": "code",
      "metadata": {
        "colab": {
          "base_uri": "https://localhost:8080/",
          "height": 265
        },
        "id": "R0eDSEwwi_Is",
        "outputId": "dac6c098-3621-47a9-de41-9f6f3f5d7924"
      },
      "source": [
        "# generate n real samples with class labels\n",
        "def generate_real_samples(n):\n",
        "\t# generate inputs in [0,1]\n",
        "\tX1 = np.random.rand(n)\n",
        "\t# generate outputs sin(1*pi*x1) : 0~180\n",
        "\tX2 = np.sin(X1*np.pi*1)\n",
        "\t# stack arrays\n",
        "\tX1 = X1.reshape(n, 1)\t\t#(n,1)<-(n)\n",
        "\tX2 = X2.reshape(n, 1)\t\t#(n개의 1차원 vector)<-(n차원 vector) \n",
        "\tX = np.hstack((X1, X2))\t#(n,2)<-(n,1)(n,1)\n",
        "\t# generate class labels\n",
        "\ty = np.ones((n, 1))\t#True \n",
        "\treturn X, y \t\t\t\t#((n,2),1)\n",
        "\n",
        "# generate samples\n",
        "data = generate_real_samples(128)\n",
        "# plot real samples\n",
        "plt.scatter(data[0][:, 0], data[0][:, 1])\n",
        "plt.show() #순서가 random인 sin "
      ],
      "execution_count": 2,
      "outputs": [
        {
          "output_type": "display_data",
          "data": {
            "image/png": "[encoded data removed]",
            "text/plain": [
              "<Figure size 432x288 with 1 Axes>"
            ]
          },
          "metadata": {
            "tags": [],
            "needs_background": "light"
          }
        }
      ]
    },
    {
      "cell_type": "code",
      "metadata": {
        "colab": {
          "base_uri": "https://localhost:8080/"
        },
        "id": "yUPHCb8gjTXe",
        "outputId": "8be4a332-8277-4631-8da8-f36544cf8c93"
      },
      "source": [
        "# define the standalone discriminator model\n",
        "def define_discriminator(n_inputs=2): #target이 없음\n",
        "\tmodel = keras.models.Sequential(name=\"Discriminator\")\n",
        "\tmodel.add(layers.Dense(25, activation='relu', \n",
        "\t            kernel_initializer='he_uniform', input_dim=n_inputs))\n",
        "\tmodel.add(layers.Dense(1, activation='sigmoid'))\n",
        "\t# compile model\n",
        "\tmodel.compile(loss='binary_crossentropy', optimizer='adam', metrics=['accuracy'])\n",
        "\treturn model\n",
        "\n",
        "d_model=define_discriminator()\n",
        "d_model.summary()"
      ],
      "execution_count": 3,
      "outputs": [
        {
          "output_type": "stream",
          "text": [
            "Model: \"Discriminator\"\n",
            "_________________________________________________________________\n",
            "Layer (type)                 Output Shape              Param #   \n",
            "=================================================================\n",
            "dense (Dense)                (None, 25)                75        \n",
            "_________________________________________________________________\n",
            "dense_1 (Dense)              (None, 1)                 26        \n",
            "=================================================================\n",
            "Total params: 101\n",
            "Trainable params: 101\n",
            "Non-trainable params: 0\n",
            "_________________________________________________________________\n"
          ],
          "name": "stdout"
        }
      ]
    },
    {
      "cell_type": "code",
      "metadata": {
        "colab": {
          "base_uri": "https://localhost:8080/"
        },
        "id": "GQ4v7sC1kZ8u",
        "outputId": "8b4bccfa-e788-471e-cd3c-539ea71c72ed"
      },
      "source": [
        "# define the standalone generator model\n",
        "def define_generator(latent_dim, n_outputs=2):\n",
        "\tmodel = keras.models.Sequential(name=\"Generator\")\n",
        "\tmodel.add(layers.Dense(15, activation='relu',\n",
        "\t                       kernel_initializer='he_uniform', input_dim=latent_dim))\n",
        "\tmodel.add(layers.Dense(n_outputs, activation='linear'))\n",
        "\treturn model #loss가 없음\n",
        "\n",
        "g_model=define_generator(5)\n",
        "g_model.summary()"
      ],
      "execution_count": 4,
      "outputs": [
        {
          "output_type": "stream",
          "text": [
            "Model: \"Generator\"\n",
            "_________________________________________________________________\n",
            "Layer (type)                 Output Shape              Param #   \n",
            "=================================================================\n",
            "dense_2 (Dense)              (None, 15)                90        \n",
            "_________________________________________________________________\n",
            "dense_3 (Dense)              (None, 2)                 32        \n",
            "=================================================================\n",
            "Total params: 122\n",
            "Trainable params: 122\n",
            "Non-trainable params: 0\n",
            "_________________________________________________________________\n"
          ],
          "name": "stdout"
        }
      ]
    },
    {
      "cell_type": "code",
      "metadata": {
        "colab": {
          "base_uri": "https://localhost:8080/"
        },
        "id": "8ohQJ-GDkf5q",
        "outputId": "e24061e4-7915-4fed-90dc-cb923b64772b"
      },
      "source": [
        "# define the combined generator and discriminator model, for updating the generator\n",
        "def define_gan(generator, discriminator): # target이 없음\n",
        "\t# make weights in the discriminator not trainable\n",
        "\tdiscriminator.trainable = False\n",
        "\t# connect them\n",
        "\tmodel = keras.models.Sequential()\n",
        "\t# add generator\n",
        "\tmodel.add(generator) \t\t\t\n",
        "\t# add the discriminator\n",
        "\tmodel.add(discriminator) \t#출력이 1이면->CE작어져->Gen학습됨\n",
        "\t# compile model  ## \n",
        "\tmodel.compile(loss='binary_crossentropy', optimizer='adam')\n",
        "\treturn model\n",
        "\n",
        "gan_model=define_gan(g_model,d_model)\n",
        "gan_model.summary()"
      ],
      "execution_count": 5,
      "outputs": [
        {
          "output_type": "stream",
          "text": [
            "Model: \"sequential\"\n",
            "_________________________________________________________________\n",
            "Layer (type)                 Output Shape              Param #   \n",
            "=================================================================\n",
            "Generator (Sequential)       (None, 2)                 122       \n",
            "_________________________________________________________________\n",
            "Discriminator (Sequential)   (None, 1)                 101       \n",
            "=================================================================\n",
            "Total params: 223\n",
            "Trainable params: 122\n",
            "Non-trainable params: 101\n",
            "_________________________________________________________________\n"
          ],
          "name": "stdout"
        }
      ]
    },
    {
      "cell_type": "code",
      "metadata": {
        "colab": {
          "base_uri": "https://localhost:8080/"
        },
        "id": "wkWiTdhFlZ1e",
        "outputId": "ff7a5490-5890-418d-b519-f782de20cad8"
      },
      "source": [
        "# generate points in latent space as input for the generator\n",
        "def generate_latent_points(latent_dim, n):\n",
        "\t# generate points in the latent space\n",
        "\tx_input = np.random.randn(latent_dim * n)\n",
        "\t# reshape into a batch of inputs for the network\n",
        "\tx_input = x_input.reshape(n, latent_dim)\n",
        "\treturn x_input\n",
        "\n",
        "generate_latent_points(5,2)"
      ],
      "execution_count": 6,
      "outputs": [
        {
          "output_type": "execute_result",
          "data": {
            "text/plain": [
              "array([[ 1.84693514, -0.51427591,  0.12175099,  0.25875287, -0.32611633],\n",
              "       [ 0.20079121,  0.65187246,  1.59530466,  0.81397546, -0.86656781]])"
            ]
          },
          "metadata": {
            "tags": []
          },
          "execution_count": 6
        }
      ]
    },
    {
      "cell_type": "code",
      "metadata": {
        "colab": {
          "base_uri": "https://localhost:8080/",
          "height": 265
        },
        "id": "METyugnemKE1",
        "outputId": "2fa526b3-deed-4cf1-dfac-bfe8fab47686"
      },
      "source": [
        "# use the generator to generate n fake examples, with class labels\n",
        "def generate_fake_samples(generator, latent_dim, n):\n",
        "\t# generate points in latent space\n",
        "\tx_input = generate_latent_points(latent_dim, n)\n",
        "\t# predict outputs\n",
        "\tX = generator.predict(x_input)  #(n,2)<-(n,5) \n",
        "\t# create class labels\n",
        "\ty = np.zeros((n, 1))\n",
        "\treturn X, y \t\t\t\t#((n,2),1)\n",
        "\t\n",
        "# generate and plot fake samples\n",
        "data = generate_fake_samples(g_model, 5, 100)\n",
        "# plot fake samples\n",
        "plt.scatter(data[0][:, 0], data[0][:, 1])\n",
        "plt.show()"
      ],
      "execution_count": 7,
      "outputs": [
        {
          "output_type": "display_data",
          "data": {
            "image/png": "[encoded data removed]",
            "text/plain": [
              "<Figure size 432x288 with 1 Axes>"
            ]
          },
          "metadata": {
            "tags": [],
            "needs_background": "light"
          }
        }
      ]
    },
    {
      "cell_type": "code",
      "metadata": {
        "colab": {
          "base_uri": "https://localhost:8080/",
          "height": 282
        },
        "id": "TDV_cR9ym7Uk",
        "outputId": "5b398502-75a3-48c9-c4d8-800e639bc25e"
      },
      "source": [
        "# evaluate the discriminator and plot real and fake points\n",
        "def summarize_performance(epoch, generator, discriminator, latent_dim, \n",
        "                          n=100, ovr=False):\n",
        "\t# prepare real samples\n",
        "\tx_real, y_real = generate_real_samples(n)\n",
        "\t# evaluate discriminator on real examples\n",
        "\t_, acc_real = discriminator.evaluate(x_real, y_real, verbose=0)\n",
        "\t# prepare fake examples\n",
        "\tx_fake, y_fake = generate_fake_samples(generator, latent_dim, n)\n",
        "\t# evaluate discriminator on fake examples\n",
        "\t_, acc_fake = discriminator.evaluate(x_fake, y_fake, verbose=0)\n",
        "\t# summarize discriminator performance\n",
        "\tif ovr: \n",
        "\t\tdisplay.clear_output(wait=True)\n",
        "\tprint(\"Epoch:%d   Acc_real:%f   Acc_fake:%f\" % (epoch, acc_real, acc_fake))\n",
        "\t# scatter plot real and fake data points\n",
        "\tplt.scatter(x_real[:, 0], x_real[:, 1], color='red')\n",
        "\tplt.scatter(x_fake[:, 0], x_fake[:, 1], color='blue')\n",
        "\tplt.show()\n",
        "\n",
        "summarize_performance(0,g_model,d_model,5, ovr=False)"
      ],
      "execution_count": 8,
      "outputs": [
        {
          "output_type": "stream",
          "text": [
            "Epoch:0   Acc_real:0.000000   Acc_fake:1.000000\n"
          ],
          "name": "stdout"
        },
        {
          "output_type": "display_data",
          "data": {
            "image/png": "[encoded data removed]",
            "text/plain": [
              "<Figure size 432x288 with 1 Axes>"
            ]
          },
          "metadata": {
            "tags": [],
            "needs_background": "light"
          }
        }
      ]
    },
    {
      "cell_type": "code",
      "metadata": {
        "id": "NhK8n0ngol3Y"
      },
      "source": [
        "# train the generator and discriminator\n",
        "def train(g_model, d_model, gan_model, latent_dim, n_epochs=10000, n_batch=1024, n_eval=100, over=False):\n",
        "\t# determine half the size of one batch, for updating the discriminator\n",
        "\thalf_batch = int(n_batch / 2)\n",
        "\t# manually enumerate epochs\n",
        "\tfor i in range(n_epochs):\n",
        "\t\t# prepare real samples\n",
        "\t\tx_real, y_real = generate_real_samples(half_batch) \n",
        "\t\t# prepare fake examples\n",
        "\t\tx_fake, y_fake = generate_fake_samples(g_model, latent_dim, half_batch)\n",
        "\t\t# update discriminator\n",
        "\t\td_model.train_on_batch(x_real, y_real)\n",
        "\t\td_model.train_on_batch(x_fake, y_fake)\n",
        "\t\t# prepare points in latent space as input for the generator\n",
        "\t\tx_gan = generate_latent_points(latent_dim, n_batch)\n",
        "\t\t# create inverted labels for the fake samples\n",
        "\t\ty_gan = np.ones((n_batch, 1))\n",
        "\t\t# update the generator via the discriminator's error\n",
        "\t\tgan_model.train_on_batch(x_gan, y_gan)\n",
        "\t\t# evaluate the model every n_eval epochs\n",
        "\t\tif (i+1) % n_eval == 0:\n",
        "\t\t\tsummarize_performance(i, g_model, d_model, latent_dim, ovr=over)"
      ],
      "execution_count": null,
      "outputs": []
    }
  ]
}